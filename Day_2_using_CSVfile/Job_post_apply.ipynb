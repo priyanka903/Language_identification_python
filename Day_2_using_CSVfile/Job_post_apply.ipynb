{
 "cells": [
  {
   "cell_type": "markdown",
   "id": "3a6c35d0",
   "metadata": {},
   "source": [
    "###  Identifying the technical words in resume"
   ]
  },
  {
   "cell_type": "code",
   "execution_count": 3,
   "id": "e38a6e10",
   "metadata": {},
   "outputs": [
    {
     "name": "stdout",
     "output_type": "stream",
     "text": [
      "Technologies mentioned: {'engagement', 'oracle', 'metrics', 'java', 'powerpoint', 'php', 'mining', 'schedule', 'js', 'adobe', 'reporting', 'database', 'reports', 'content', 'engineering', 'ai', 'queries', 'seaborn', 'etl', 'gmail', 'javascript', 'programming', 'python', 'word', 'tableau', 'analysis', 'system', 'analytics', 'technical', 'r', 'pandas', 'numpy', 'matplotlib', 'excel', 'c', 'sql', 'mysql'}\n"
     ]
    }
   ],
   "source": [
    "import csv\n",
    "from docx import Document\n",
    "import re\n",
    "\n",
    "data_list = []\n",
    "csv_file_path = r'C:\\Users\\Priyaa\\Documents\\GitHub\\Language_identification_python\\skills.csv'\n",
    "# Open the CSV file and read the data\n",
    "with open(csv_file_path, newline='', encoding='utf-8') as csvfile:\n",
    "    csvreader = csv.reader(csvfile)\n",
    "    for row in csvreader:\n",
    "        data_list.append(row)\n",
    "\n",
    "technologies_list = [item for sublist in data_list for item in sublist]\n",
    "\n",
    "def read_docx_remove_numbers_special_chars(doc_path):\n",
    "    doc = Document(doc_path)\n",
    "    words_cleaned = []\n",
    "\n",
    "    for para in doc.paragraphs:\n",
    "        words = re.findall(r'\\b[a-zA-Z]+\\b', para.text)\n",
    "        words_cleaned.extend(word.lower() for word in words)\n",
    "\n",
    "    # Remove duplicates while preserving order\n",
    "    words_list = list(dict.fromkeys(words_cleaned))\n",
    "\n",
    "    return words_list\n",
    "\n",
    "# Specify the path to your Word document\n",
    "doc_path = 'resume.docx'\n",
    "\n",
    "# Call the function and get the list of words without numbers and special characters, all in lowercase\n",
    "words_list = read_docx_remove_numbers_special_chars(doc_path)\n",
    "\n",
    "def find_technologies_in_description(description, technologies):\n",
    "    common_technologies = set()\n",
    "    \n",
    "    # Checking for technologies in the description\n",
    "    for technology in technologies:\n",
    "        if technology.lower() in description:\n",
    "            common_technologies.add(technology)\n",
    "    \n",
    "    return common_technologies\n",
    "\n",
    "# Prompting user for description\n",
    "# user_description = input(\"Enter your description: \")\n",
    "\n",
    "# Finding and displaying common technologies\n",
    "common_technologies_myresume = find_technologies_in_description(words_list, technologies_list)\n",
    "print(\"Technologies mentioned:\", common_technologies_myresume)\n"
   ]
  },
  {
   "cell_type": "markdown",
   "id": "354e3d5b",
   "metadata": {},
   "source": [
    "### Displaying the description missing values and % of common values"
   ]
  },
  {
   "cell_type": "code",
   "execution_count": 5,
   "id": "bcd314e5",
   "metadata": {},
   "outputs": [
    {
     "name": "stdout",
     "output_type": "stream",
     "text": [
      "Enter your description: Data Analyst Job Summary  The Business Insights and Performance team delivers value to Equinix through data-driven analysis, product reporting, recommendations, forecasts, and product/pricing data modeling for our Data Center Services product platform. This team sits under the Data Center Services Business Operations organization, supporting a $7B global business unit. As a Data Analyst for this team, you will help support several insights and analytics programs.  Responsibilities  Wrangle data from many different data sources and do deep dive analysis to deliver business insights to drive business decisions and optimize company performance  Work closely with DCS Product stakeholders to understand the business and use available data to effectively answer questions, solve problems and perform ad-hoc data analysis  Maintain an existing suite of Tableau product dashboards and perform dashboard updates as needed  Assist the team with automating reporting/project tasks where applicable  Become a subject matter expert on DCS-product data (asset, billing, and customer data)  As part of this team, you will likely have experience in all the following areas, with domain expertise in at least two subjects  Business Modeling  Understand product value and customer behavior  Demonstrate strong business and financial knowledge / modeling experience, where you can highlight risks, opportunities, and issues  You know what questions to ask and how to interpret the answers  Data Analysis  Understand the data structure, ensure accuracy, automate where possible  Ability to self-serve from data repositories or bespoke data pulls  Experience creating and publishing product dashboards  You know how to find the answers  Visualization  Can visually or textually display the data in ways that are meaningful to the end user  You know how to tell the story  Statistics  Use statistical analysis to discover the real influencers vs what are simply data points  You know how to identify trends and predict future results  Qualifications  3+ years as data analyst, product analyst or similar role  Bachelor’s degree required, preferably in an analytical field (math, computer science, statistics, engineering etc)  Advanced Tableau development experience required, including Tableau Server experience  Advanced SQL skills  Experience working with Python, R or similar to perform analysis and create models  Advanced Excel Skills  Advanced statistics knowledge and experience with data science an asset  Excellent critical thinking skills  Excellent communication skills  Project management skills an asset  Highly proactive, with the ability to work independently  Enthusiastic and passionate about learning and developing both technical and business acumen skills  Fluent English language skills (both verbal and written)  Demonstrated experience as a collaborative team player  Equinix is committed to ensuring that our employment process is open to all individuals, including those with a disability. If you are a qualified candidate and need assistance or an accommodation, please let us know by completing this form.  Equinix is an Equal Employment Opportunity and, in the U.S., an Affirmative Action employer. All qualified applicants will receive consideration for employment without regard to unlawful consideration of race, color, religion, creed, national or ethnic origin, ancestry, place of birth, citizenship, sex, pregnancy / childbirth or related medical conditions, sexual orientation, gender identity or expression, marital or domestic partnership status, age, veteran or military status, physical or mental disability, medical condition, genetic information, political / organizational affiliation, status as a victim or family member of a victim of crime or abuse, or any other status protected by applicable law.\n",
      "Technologies mentioned: {'data analysis', 'reporting', 'tableau', 'ai', 'engineering', 'excel', 'c', 'sql', 'analytics', 'technical', 'r', 'python'}\n",
      "Missing in list1 resume: ['computer science', 'ply', 'communication', 'visual', 'english', 'os', 'sh', 'lan', 'project management', 'operations', 'analytical', 'sci', 'modeling', 'eve', 'process', 'partnership', 'billing', 'data center', 'erp', 'analysis', 'pr', 'math', 'forecasts', 'updates', 'project management skills', 'statistics', 'try', 'publishing', 'p', 'statistical analysis', 'ui', 'end user']\n",
      "Match percentage: 27.27272727272727\n"
     ]
    }
   ],
   "source": [
    "import csv\n",
    "\n",
    "common_technologies_myresume = ['data analysis', 'powerpoint', 'ai', 'reporting', 'seaborn', 'python', 'system', 'pandas', 'javascript', 'adobe', 'php', 'gmail', 'numpy', 'engineering', 'technical', 'engagement', 'excel', 'content', 'java', 'queries', 'sql', 'js', 'oracle', 'analytics', 'tableau', 'r', 'reports', 'database', 'schedule', 'matplotlib', 'word', 'mysql', 'mining', 'programming', 'c', 'etl', 'metrics']\n",
    "csv_file_path = r'C:\\Users\\Priyaa\\Documents\\GitHub\\Language_identification_python\\skills.csv'\n",
    "\n",
    "# Initialize an empty list to store your data\n",
    "data_list = []\n",
    "\n",
    "# Open the CSV file and read the data\n",
    "with open(csv_file_path, newline='', encoding='utf-8') as csvfile:\n",
    "    csvreader = csv.reader(csvfile)\n",
    "    for row in csvreader:\n",
    "        data_list.append(row)\n",
    "\n",
    "technologies_list = [item for sublist in data_list for item in sublist]\n",
    "\n",
    "def find_technologies_in_description(description, technologies):\n",
    "    description_lower = description.lower()\n",
    "    common_technologies = set()\n",
    "    \n",
    "    # Checking for technologies in the description\n",
    "    for technology in technologies:\n",
    "        if technology.lower() in description_lower:\n",
    "            common_technologies.add(technology)\n",
    "    \n",
    "    return common_technologies\n",
    "\n",
    "# Prompting user for description\n",
    "user_description = input(\"Enter your description: \")\n",
    "\n",
    "# Finding and displaying common technologies\n",
    "common_technologies = find_technologies_in_description(user_description, technologies_list)\n",
    "# print(\"Technologies mentioned:\", common_technologies)\n",
    "list1= common_technologies_myresume\n",
    "list2= common_technologies\n",
    "\n",
    "missing_in_list1 = list(set(list2) - set(list1))\n",
    "\n",
    "\n",
    "def calculate_match_percentage(words, technologies):\n",
    "    # Convert all words to lowercase for case-insensitive matching\n",
    "    words_lower = [word.lower() for word in words]\n",
    "    technologies_lower = [tech.lower() for tech in technologies]\n",
    "\n",
    "    # Find common technologies in the description\n",
    "    common_technologies = set(tech for tech in technologies_lower if tech in words_lower)\n",
    "    \n",
    "    # Calculate the match percentage\n",
    "    match_percentage = (len(common_technologies) / len(set(technologies))) * 100 if technologies else 0\n",
    "    \n",
    "    return common_technologies, match_percentage\n",
    "\n",
    "# Calculate match percentage based on the resume words and technologies\n",
    "common_technologies, match_percentage = calculate_match_percentage(common_technologies_myresume, common_technologies)\n",
    "\n",
    "print(\"Technologies mentioned:\", common_technologies)\n",
    "print(\"Missing in list1 resume:\", missing_in_list1)\n",
    "print(\"Match percentage:\", match_percentage)\n"
   ]
  },
  {
   "cell_type": "code",
   "execution_count": null,
   "id": "569f272c",
   "metadata": {},
   "outputs": [],
   "source": []
  },
  {
   "cell_type": "code",
   "execution_count": null,
   "id": "058f5950",
   "metadata": {},
   "outputs": [],
   "source": []
  }
 ],
 "metadata": {
  "kernelspec": {
   "display_name": "Python 3 (ipykernel)",
   "language": "python",
   "name": "python3"
  },
  "language_info": {
   "codemirror_mode": {
    "name": "ipython",
    "version": 3
   },
   "file_extension": ".py",
   "mimetype": "text/x-python",
   "name": "python",
   "nbconvert_exporter": "python",
   "pygments_lexer": "ipython3",
   "version": "3.11.4"
  }
 },
 "nbformat": 4,
 "nbformat_minor": 5
}
